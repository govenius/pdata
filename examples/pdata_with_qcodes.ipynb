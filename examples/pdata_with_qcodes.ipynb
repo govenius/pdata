{
 "cells": [
  {
   "cell_type": "markdown",
   "metadata": {},
   "source": [
    "# pdata with QCoDeS example"
   ]
  },
  {
   "cell_type": "markdown",
   "metadata": {},
   "source": [
    "This notebook shows how to use QCoDeS for instrument control but save data using procedural_data and use standard Python flow control.\n",
    "\n",
    "The example also shows how to read the saved data back using analysis.dataview.\n",
    "\n",
    "Changes to instrument settings between calls to add_points() are stored automatically.\n",
    "\n",
    "The top-level Jupyter notebook (if any) will also be saved automatically in the data directory."
   ]
  },
  {
   "cell_type": "code",
   "execution_count": null,
   "metadata": {},
   "outputs": [],
   "source": [
    "%matplotlib widget\n",
    "\n",
    "import matplotlib\n",
    "import numpy as np\n",
    "import matplotlib.pyplot as plt\n",
    "\n",
    "import os\n",
    "import sys\n",
    "import logging\n",
    "import time"
   ]
  },
  {
   "cell_type": "code",
   "execution_count": null,
   "metadata": {},
   "outputs": [],
   "source": [
    "import qcodes as qc # <-- Assumes you've installed QCoDeS: https://qcodes.github.io/Qcodes/start/index.html"
   ]
  },
  {
   "cell_type": "code",
   "execution_count": null,
   "metadata": {},
   "outputs": [],
   "source": [
    "from pdata.procedural_data import run_measurement"
   ]
  },
  {
   "cell_type": "markdown",
   "metadata": {},
   "source": [
    "# Define data storage location"
   ]
  },
  {
   "cell_type": "code",
   "execution_count": null,
   "metadata": {},
   "outputs": [],
   "source": [
    "data_root = r'example_data_root' # <-- path to your data root directory"
   ]
  },
  {
   "cell_type": "markdown",
   "metadata": {},
   "source": [
    "# Create an artificial instrument driver, just for the sake of this example"
   ]
  },
  {
   "cell_type": "code",
   "execution_count": null,
   "metadata": {},
   "outputs": [],
   "source": [
    "class FakeVNA(qc.instrument.base.Instrument):\n",
    "\n",
    "  def __init__(self, name, **kwargs):\n",
    "    super().__init__(name, **kwargs)\n",
    "    self._power=0\n",
    "    self.add_parameter('power', unit=\"dBm\", get_cmd=lambda: self._power, set_cmd=self._setp)\n",
    "\n",
    "  def _setp(self, val):\n",
    "    \"\"\" Helper for keeping track of last set power value. \"\"\"\n",
    "    self._power=val\n",
    "\n",
    "  def acquire_S21(self):\n",
    "    \"\"\" Return some made up S21 (magnitude) data, with dependence on power. \"\"\"\n",
    "    time.sleep(0.5)\n",
    "    freqs = np.linspace(5.9e9, 6.1e9, 41)\n",
    "    lorenzian = lambda f,gamma,f0=6e9: 1/np.sqrt(np.pi) * (gamma / (gamma - 1j*(f-f0)))\n",
    "    return freqs, lorenzian(freqs, 10e6 * 2**(self.power()/10.)) * (1 + 0.3*np.random.rand(len(freqs)))\n",
    "\n",
    "  def ask(self, query):\n",
    "    \"\"\" In some versions of QCoDeS, all instruments must support ask(\"*IDN?\") \"\"\"\n",
    "    if query.strip().lower()==\"*idn?\": return \"FakeVNA\"\n",
    "    else: assert False, \"Not implemented.\""
   ]
  },
  {
   "cell_type": "markdown",
   "metadata": {},
   "source": [
    "# Init instrument and create a QCoDeS station containing one instrument"
   ]
  },
  {
   "cell_type": "code",
   "execution_count": null,
   "metadata": {},
   "outputs": [],
   "source": [
    "vna = FakeVNA(name='vna')\n",
    "station = qc.Station(vna)"
   ]
  },
  {
   "cell_type": "markdown",
   "metadata": {},
   "source": [
    "# Measure"
   ]
  },
  {
   "cell_type": "code",
   "execution_count": null,
   "metadata": {},
   "outputs": [],
   "source": [
    "# Define a function that gets the current instrument settings from QCoDeS (as a dict)\n",
    "import qcodes.station\n",
    "get_qcodes_instrument_snapshot = lambda s=qcodes.station.Station.default: s.snapshot(update=True)"
   ]
  },
  {
   "cell_type": "code",
   "execution_count": null,
   "metadata": {},
   "outputs": [],
   "source": [
    "# Columns are specified as (<name>, <unit>), or just <name> if the quantity is dimensionless.\n",
    "with run_measurement(get_qcodes_instrument_snapshot,\n",
    "                     columns = [(\"frequency\", \"Hz\"),\n",
    "                                \"S21\"],\n",
    "                     name='power-sweep', # <-- arbitrary str descriptive of measurement type\n",
    "                     data_base_dir=data_root) as m:\n",
    "\n",
    "  logging.warning('This test warning will (also) end up in log.txt within the data dir.')\n",
    "\n",
    "  data_path = m.path()\n",
    "  logging.warning(f'Data directory path = {m.path()}.')\n",
    "\n",
    "  for p in [-30, -20, -10]:\n",
    "    vna.power(p)  # <-- note that this new value gets automatically stored in the data\n",
    "    freqs, s21 = vna.acquire_S21()\n",
    "    m.add_points({'frequency': freqs, 'S21': s21})"
   ]
  },
  {
   "cell_type": "markdown",
   "metadata": {},
   "source": [
    "# Read the data back using DataView"
   ]
  },
  {
   "cell_type": "markdown",
   "metadata": {},
   "source": [
    "You should almost always **have analysis in a separate Jupyter notebook**. Here it's in the same one just to keep the demo in one place."
   ]
  },
  {
   "cell_type": "code",
   "execution_count": null,
   "metadata": {},
   "outputs": [],
   "source": [
    "from pdata.analysis.dataview import DataView, PDataSingle"
   ]
  },
  {
   "cell_type": "code",
   "execution_count": null,
   "metadata": {},
   "outputs": [],
   "source": [
    "# Read the data from disk into a PDataSingle object\n",
    "# and then feed that into a DataView object for analysis\n",
    "#\n",
    "# PDataSingle and Dataview are separate because you can\n",
    "# concatenate multiple data dirs into one DataView by\n",
    "# adding multiple PDataSingle's to the array below.\n",
    "d = DataView([ PDataSingle(data_path), ])"
   ]
  },
  {
   "cell_type": "code",
   "execution_count": null,
   "metadata": {},
   "outputs": [],
   "source": [
    "# Let's take a look at the HTML-formatted summary of d,\n",
    "# before adding any virtual dimensions\n",
    "d"
   ]
  },
  {
   "cell_type": "code",
   "execution_count": null,
   "metadata": {},
   "outputs": [],
   "source": [
    "# Add a column to the data table based on a value from the settings snapshot.\n",
    "# To figure out the path you need to specify in from_set.\n",
    "# use the graphical helper dataexplorer.snapshot_explorer(d)\n",
    "# See example at the end of this notebook.\n",
    "d.add_virtual_dimension('VNA power', units=\"dBm\",\n",
    "                        from_set=('instruments', 'vna',\n",
    "                                  'parameters', 'power', 'value'))"
   ]
  },
  {
   "cell_type": "code",
   "execution_count": null,
   "metadata": {},
   "outputs": [],
   "source": [
    "# Let's take a look at the HTML-formatted summary of d again,\n",
    "# note the new \"VNA power\" column, added with add_virtual_dimension() above.\n",
    "d"
   ]
  },
  {
   "cell_type": "markdown",
   "metadata": {},
   "source": [
    "## Looking at the data as arrays"
   ]
  },
  {
   "cell_type": "code",
   "execution_count": null,
   "metadata": {},
   "outputs": [],
   "source": [
    "# Print some stored tabular data values:\n",
    "d[\"frequency\"][0::10]"
   ]
  },
  {
   "cell_type": "code",
   "execution_count": null,
   "metadata": {},
   "outputs": [],
   "source": [
    "# Print some stored tabular data values:\n",
    "d[\"S21\"][0::10]"
   ]
  },
  {
   "cell_type": "code",
   "execution_count": null,
   "metadata": {},
   "outputs": [],
   "source": [
    "# Above we defined VNA power as a \"virtual column\", so you can access that just the same as the real tabular data columns:\n",
    "d[\"VNA power\"][0::10]"
   ]
  },
  {
   "cell_type": "code",
   "execution_count": null,
   "metadata": {},
   "outputs": [],
   "source": [
    "print('\\nUnique powers in the data set: %s' % (np.unique(d[\"VNA power\"])))"
   ]
  },
  {
   "cell_type": "code",
   "execution_count": null,
   "metadata": {},
   "outputs": [],
   "source": [
    "# Divide the rows into contiguous ranges (\"sweeps\")\n",
    "# based on on a parameter that stays constant during a single sweep\n",
    "print('\\nSweeps based on a per-sweep-fixed parameter: %s' % d.divide_into_sweeps('VNA power'))"
   ]
  },
  {
   "cell_type": "code",
   "execution_count": null,
   "metadata": {},
   "outputs": [],
   "source": [
    "# Do the same based on on a parameter that increases or decreases monotonously during a single sweep\n",
    "print('\\nSweeps based on a per-sweep-swept parameter: %s' % d.divide_into_sweeps('frequency'))"
   ]
  },
  {
   "cell_type": "code",
   "execution_count": null,
   "metadata": {},
   "outputs": [],
   "source": [
    "print('Instruments in the snapshot file:')\n",
    "print(d.settings()[0][1]['instruments'].keys())"
   ]
  },
  {
   "cell_type": "markdown",
   "metadata": {},
   "source": [
    "## Plot the sweeps manually"
   ]
  },
  {
   "cell_type": "code",
   "execution_count": null,
   "metadata": {},
   "outputs": [],
   "source": [
    "fig, ax = plt.subplots()\n",
    "\n",
    "for dd in d.sweeps('frequency'): # <-- split data rows into monotonously increasing/decreasing sweeps \n",
    "#for dd in d.sweeps('VNA power'): # <-- This works equally well, instead using a parameter that stays constant within a sweep.\n",
    "  power = dd.single_valued_parameter('VNA power')\n",
    "  ax.plot(dd['frequency'], np.abs(dd['S21']), label=\"%s dBm\" % power)\n",
    "\n",
    "ax.set(xlabel=f'f (Hz)', ylabel='S21')\n",
    "ax.set_yscale('log')\n",
    "ax.legend();"
   ]
  },
  {
   "cell_type": "markdown",
   "metadata": {},
   "source": [
    "## Dataexplorer demo: Create a similar plots using dataexplorer to quickly examine sanity of data"
   ]
  },
  {
   "cell_type": "code",
   "execution_count": null,
   "metadata": {},
   "outputs": [],
   "source": [
    "from pdata.analysis import dataexplorer"
   ]
  },
  {
   "cell_type": "code",
   "execution_count": null,
   "metadata": {},
   "outputs": [],
   "source": [
    "# Create a graphical selector for choosing one or more data sets to plot (in the next cell)\n",
    "sel = dataexplorer.data_selector(data_root)\n",
    "display(sel)"
   ]
  },
  {
   "cell_type": "code",
   "execution_count": null,
   "metadata": {},
   "outputs": [],
   "source": [
    "print(f\"Plotting datasets: {sel.value}\")\n",
    "dataexplorer.basic_plot(data_root, sel.value, \"frequency\", \"S21\", ylog=True);"
   ]
  },
  {
   "cell_type": "code",
   "execution_count": null,
   "metadata": {},
   "outputs": [],
   "source": [
    "# Same as above, but ignore phase by applying np.abs to y before plotting\n",
    "dataexplorer.basic_plot(data_root, sel.value, \"frequency\", \"S21\", ylog=True, trace_processor=lambda x,y: (x,np.abs(y)));"
   ]
  },
  {
   "cell_type": "markdown",
   "metadata": {},
   "source": [
    "### Slightly more complex example: Same plot as above, but with legend for VNA power added"
   ]
  },
  {
   "cell_type": "code",
   "execution_count": null,
   "metadata": {},
   "outputs": [],
   "source": [
    "# Define a separate function that adds the virtual dimension(s)\n",
    "# so that it can be passed as a \"preprocessor\" in basic_plot() below\n",
    "def add_vdims(dd):\n",
    "  \"\"\" Add virtual dimensions to DataView dd. \"\"\"\n",
    "  dd.add_virtual_dimension('VNA power', units=\"dBm\",\n",
    "                            from_set=('instruments', 'vna',\n",
    "                                      'parameters', 'power', 'value'))\n",
    "  return dd"
   ]
  },
  {
   "cell_type": "code",
   "execution_count": null,
   "metadata": {
    "tags": []
   },
   "outputs": [],
   "source": [
    "dataexplorer.basic_plot(data_root, sel.value,\n",
    "                        \"frequency\", \"S21\",\n",
    "                        slowcoordinate=\"VNA power\",\n",
    "                        ylog=True,\n",
    "                        preprocessor=add_vdims);"
   ]
  },
  {
   "cell_type": "markdown",
   "metadata": {},
   "source": [
    "### Snapshot explorer: Helper for setting up virtual dimensions"
   ]
  },
  {
   "cell_type": "code",
   "execution_count": null,
   "metadata": {},
   "outputs": [],
   "source": [
    "dataexplorer.snapshot_explorer(d)"
   ]
  },
  {
   "cell_type": "markdown",
   "metadata": {},
   "source": [
    "### Monitor a directory for new data (i.e. live plotting)"
   ]
  },
  {
   "cell_type": "markdown",
   "metadata": {},
   "source": [
    "See separate notebook: pdata_with_qcodes_liveplot.ipynb"
   ]
  }
 ],
 "metadata": {
  "@webio": {
   "lastCommId": null,
   "lastKernelId": null
  },
  "kernelspec": {
   "display_name": "Python 3 (ipykernel)",
   "language": "python",
   "name": "python3"
  },
  "language_info": {
   "codemirror_mode": {
    "name": "ipython",
    "version": 3
   },
   "file_extension": ".py",
   "mimetype": "text/x-python",
   "name": "python",
   "nbconvert_exporter": "python",
   "pygments_lexer": "ipython3",
   "version": "3.11.7"
  }
 },
 "nbformat": 4,
 "nbformat_minor": 4
}
